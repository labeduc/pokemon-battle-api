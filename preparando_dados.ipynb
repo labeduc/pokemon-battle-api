{
 "cells": [
  {
   "cell_type": "markdown",
   "metadata": {},
   "source": [
    "# Preparando os Dados para o Trabalho Final"
   ]
  },
  {
   "cell_type": "markdown",
   "metadata": {},
   "source": [
    "Olá, Cientistas de Dados!\n",
    "\n",
    "Neste notebook vamos preparar os dados de pokemons para o trabalho final.\n",
    "\n",
    "Os passos que iremos executar são os seguintes:\n",
    "\n",
    "1. Identificar as origens dos dados e como iremos busca-los\n",
    "2. Processar a informação: limpeza, agregação, filtragem, ...\n",
    "3. Salvar os dados em um formato que possa ser utilizado no trabalho final\n",
    "\n",
    "Bora lá!"
   ]
  },
  {
   "cell_type": "markdown",
   "metadata": {},
   "source": [
    "## 1. Origem dos Dados"
   ]
  },
  {
   "cell_type": "markdown",
   "metadata": {},
   "source": [
    "Todos os nossos dados estão vindo da API [PokeAPI](https://pokeapi.co/). Ela contém dados sobre todos os pokemons, suas habilidades, tipos, etc. Também estamos buscando as imagens de lá e guardando seu link."
   ]
  },
  {
   "cell_type": "code",
   "execution_count": null,
   "metadata": {},
   "outputs": [],
   "source": [
    "import pandas as pd\n",
    "import requests as req\n",
    "\n",
    "import json\n",
    "import csv\n",
    "from random import choice\n",
    "import time\n",
    "import traceback"
   ]
  },
  {
   "cell_type": "markdown",
   "metadata": {},
   "source": [
    "Na célula abaixo, vamos determinar os links da API que iremos utilizar para buscar os dados. Vamos buscar os dados dos pokemons, suas habilidades, tipos e imagens.\n",
    "\n",
    "Também aproveitamos para determinar a natureza do pokemon, que é um dado que não está na API, relacionado ao pokemon.\n",
    "\n",
    "E por último, adicionamos um filtro para buscar apenas os pokemons da primeira geração a quarta geração, que são os que iremos utilizar no trabalho final."
   ]
  },
  {
   "cell_type": "code",
   "execution_count": null,
   "metadata": {},
   "outputs": [],
   "source": [
    "listar_todos_pokemons = \"https://pokeapi.co/api/v2/pokemon?limit=100000&offset=0\"\n",
    "dados_pokemon = \"https://pokeapi.co/api/v2/pokemon/{}\"\n",
    "image_pokemon = \"https://raw.githubusercontent.com/PokeAPI/sprites/master/sprites/pokemon/other/official-artwork/{}.png\"\n",
    "especie_pokemon = \"https://pokeapi.co/api/v2/pokemon-species/{}\"\n",
    "tipo_pokemon = \"https://pokeapi.co/api/v2/type/{}\"\n",
    "naturezas = [\"hardy\", \"docile\", \"serious\", \"bashful\", \"quirky\"]\n",
    "\n",
    "geracoes_permitidas = [\"generation-i\", \"generation-ii\", \"generation-iii\", \"generation-iv\"]\n",
    "lista_sexo = [\"male\", \"female\", \"genderless\"]"
   ]
  },
  {
   "cell_type": "markdown",
   "metadata": {},
   "source": [
    "Feito a definição dos links e filtros, vamos executar o primeiro passo e trazer a lista de todos os pokemons."
   ]
  },
  {
   "cell_type": "code",
   "execution_count": null,
   "metadata": {},
   "outputs": [],
   "source": [
    "response = req.get(listar_todos_pokemons)\n",
    "\n",
    "lista_pokemons = response.json()['results']\n",
    "\n",
    "print(len(lista_pokemons))"
   ]
  },
  {
   "cell_type": "markdown",
   "metadata": {},
   "source": [
    "O próximo é gerar uma lista de movimentos permitidos. Essa lista vem da biblioteca poke-battle-sim, que iremos usar para o nosso trabalho final."
   ]
  },
  {
   "cell_type": "code",
   "execution_count": null,
   "metadata": {},
   "outputs": [],
   "source": [
    "movimentos_permitidos = []\n",
    "with open(\"dados/move_list.csv\",'r') as f:\n",
    "    csvD = csv.DictReader(f)\n",
    "    for item in csvD:\n",
    "      movimentos_permitidos.append(item['identifier'])\n",
    "\n",
    "print(len(movimentos_permitidos))"
   ]
  },
  {
   "cell_type": "markdown",
   "metadata": {},
   "source": [
    "Mais um passo: gerar a lista de habilidades permitidas, também da biblioteca poke-battle-sim."
   ]
  },
  {
   "cell_type": "code",
   "execution_count": null,
   "metadata": {},
   "outputs": [],
   "source": [
    "habilidades_permitidas = []\n",
    "with open(\"dados/abilities.csv\",'r') as f:\n",
    "    csvD = csv.DictReader(f)\n",
    "    for item in csvD:\n",
    "      habilidades_permitidas.append(item['ability_name'])"
   ]
  },
  {
   "cell_type": "markdown",
   "metadata": {},
   "source": [
    "## 2. Processamento dos Dados"
   ]
  },
  {
   "cell_type": "markdown",
   "metadata": {},
   "source": [
    "Aqui temos a função que processa os pokemons. Entre outras coisas, ela busca os tipos, habilidades e movimentos permitidos e agrega aos dados principais do pokemon."
   ]
  },
  {
   "cell_type": "code",
   "execution_count": null,
   "metadata": {},
   "outputs": [],
   "source": [
    "def processa_pokemon(pokemon):\n",
    "    record = None\n",
    "    tipos = {}\n",
    "\n",
    "    try:\n",
    "        response = req.get(pokemon[\"url\"])\n",
    "        data = json.loads(response.text)\n",
    "\n",
    "        response_especie = req.get(especie_pokemon.format(data[\"species\"][\"name\"]))\n",
    "        especie = json.loads(response_especie.text)\n",
    "\n",
    "        if especie[\"generation\"][\"name\"] not in geracoes_permitidas:\n",
    "            return None\n",
    "\n",
    "        if data[\"types\"][0][\"type\"][\"name\"] not in tipos:\n",
    "            response_tipo1 = req.get(tipo_pokemon.format(data[\"types\"][0][\"type\"][\"name\"]))\n",
    "            tipo1 = json.loads(response_tipo1.text)\n",
    "            tipos[tipo1['name']] = {}\n",
    "            tipos[tipo1['name']]['recebe_dano_duplo'] = [x[\"name\"] for x in tipo1['damage_relations']['double_damage_from']]\n",
    "            tipos[tipo1['name']]['recebe_dano_metade'] = [x[\"name\"] for x in tipo1['damage_relations']['half_damage_from']]\n",
    "            tipos[tipo1['name']]['recebe_dano_zero'] = [x[\"name\"] for x in tipo1['damage_relations']['no_damage_from']]\n",
    "            tipos[tipo1['name']]['causa_dano_duplo'] = [x[\"name\"] for x in tipo1['damage_relations']['double_damage_to']]\n",
    "            tipos[tipo1['name']]['causa_dano_metade'] = [x[\"name\"] for x in tipo1['damage_relations']['half_damage_to']]\n",
    "            tipos[tipo1['name']]['causa_dano_zero'] = [x[\"name\"] for x in tipo1['damage_relations']['no_damage_to']]\n",
    "            tipos[tipo1['name']][\"movimentos\"] = [x[\"name\"] for x in tipo1['moves'] if x[\"name\"] in movimentos_permitidos]\n",
    "\n",
    "        if len(data[\"types\"]) > 1 and data[\"types\"][1][\"type\"][\"name\"] not in tipos:\n",
    "            response_tipo2 = req.get(tipo_pokemon.format(data[\"types\"][1][\"type\"][\"name\"]))\n",
    "            tipo2 = json.loads(response_tipo2.text)\n",
    "            tipos[tipo2[\"name\"]] = {}\n",
    "            tipos[tipo2[\"name\"]][\"recebe_dano_duplo\"] = [x[\"name\"] for x in tipo2[\"damage_relations\"][\"double_damage_from\"]]\n",
    "            tipos[tipo2[\"name\"]][\"recebe_dano_metade\"] = [x[\"name\"] for x in tipo2[\"damage_relations\"][\"half_damage_from\"]]\n",
    "            tipos[tipo2[\"name\"]][\"recebe_dano_zero\"] = [x[\"name\"] for x in tipo2[\"damage_relations\"][\"no_damage_from\"]]\n",
    "            tipos[tipo2[\"name\"]][\"causa_dano_duplo\"] = [x[\"name\"] for x in tipo2[\"damage_relations\"][\"double_damage_to\"]]\n",
    "            tipos[tipo2[\"name\"]][\"causa_dano_metade\"] = [x[\"name\"] for x in tipo2[\"damage_relations\"][\"half_damage_to\"]]\n",
    "            tipos[tipo2[\"name\"]][\"causa_dano_zero\"] = [x[\"name\"] for x in tipo2[\"damage_relations\"][\"no_damage_to\"]]\n",
    "            tipos[tipo2[\"name\"]][\"movimentos\"] = [x[\"name\"] for x in tipo2[\"moves\"] if x[\"name\"] in movimentos_permitidos]\n",
    "\n",
    "        record = dict(\n",
    "        id=data[\"id\"],\n",
    "        nome=data[\"name\"],\n",
    "        nivel=1,\n",
    "        sexo=choice(lista_sexo),\n",
    "        tipos = [x['type']['name'] for x in data['types']],\n",
    "        movimentos=[],\n",
    "        habilidade=None,\n",
    "        natureza=choice(naturezas),\n",
    "        cur_hp=data[\"stats\"][0][\"base_stat\"],\n",
    "        stats=[\n",
    "            data[\"stats\"][0][\"base_stat\"],\n",
    "            data[\"stats\"][1][\"base_stat\"],\n",
    "            data[\"stats\"][2][\"base_stat\"],\n",
    "            data[\"stats\"][4][\"base_stat\"],\n",
    "            data[\"stats\"][3][\"base_stat\"],\n",
    "            data[\"stats\"][5][\"base_stat\"],\n",
    "        ],\n",
    "        imagem=image_pokemon.format(data[\"id\"]),\n",
    "        legendario=especie[\"is_legendary\"],\n",
    "        mitico=especie[\"is_mythical\"],\n",
    "        geracao=especie[\"generation\"][\"name\"],\n",
    "        danos = {\n",
    "            \"recebe_dano_duplo\": [],\n",
    "            \"recebe_dano_metade\": [],\n",
    "            \"recebe_dano_zero\": [],\n",
    "            \"causa_dano_duplo\": [],\n",
    "            \"causa_dano_metade\": [],\n",
    "            \"causa_dano_zero\": []\n",
    "        }\n",
    "    )\n",
    "\n",
    "        possible_moves = []\n",
    "        for ptype in record[\"tipos\"]:\n",
    "            possible_moves += tipos[ptype][\"movimentos\"]\n",
    "            record[\"danos\"][\"recebe_dano_duplo\"] += tipos[ptype][\"recebe_dano_duplo\"]\n",
    "            record[\"danos\"][\"recebe_dano_metade\"] += tipos[ptype][\"recebe_dano_metade\"]\n",
    "            record[\"danos\"][\"recebe_dano_zero\"] += tipos[ptype][\"recebe_dano_zero\"]\n",
    "            record[\"danos\"][\"causa_dano_duplo\"] += tipos[ptype][\"causa_dano_duplo\"]\n",
    "            record[\"danos\"][\"causa_dano_metade\"] += tipos[ptype][\"causa_dano_metade\"]\n",
    "            record[\"danos\"][\"causa_dano_zero\"] += tipos[ptype][\"causa_dano_zero\"]\n",
    "\n",
    "        record[\"movimentos\"] = [choice(possible_moves) for x in range(2)]\n",
    "        habilidades = [\n",
    "            x[\"ability\"][\"name\"]\n",
    "            for x in data[\"abilities\"]\n",
    "            if x[\"ability\"][\"name\"] in habilidades_permitidas\n",
    "        ]\n",
    "        record[\"habilidade\"] = choice(habilidades) if len(habilidades) > 0 else None\n",
    "\n",
    "        record[\"danos\"][\"recebe_dano_duplo\"] = list(set(record[\"danos\"][\"recebe_dano_duplo\"]))\n",
    "        record[\"danos\"][\"recebe_dano_metade\"] = list(set(record[\"danos\"][\"recebe_dano_metade\"]))\n",
    "        record[\"danos\"][\"recebe_dano_zero\"] = list(set(record[\"danos\"][\"recebe_dano_zero\"]))\n",
    "        record[\"danos\"][\"causa_dano_duplo\"] = list(set(record[\"danos\"][\"causa_dano_duplo\"]))\n",
    "        record[\"danos\"][\"causa_dano_metade\"] = list(set(record[\"danos\"][\"causa_dano_metade\"]))\n",
    "        record[\"danos\"][\"causa_dano_zero\"] = list(set(record[\"danos\"][\"causa_dano_zero\"]))\n",
    "    except Exception as e:\n",
    "        print(f\"Erro ao processar {pokemon['name']}\")\n",
    "        print(traceback.format_exc())\n",
    "\n",
    "    return record"
   ]
  },
  {
   "cell_type": "markdown",
   "metadata": {},
   "source": [
    "Aqui chegamos ao ponto onde vamos gerar nossa lista de pokemons.\n",
    "Usando a lista com todos os pokemons, chamamos a nossa função processa_pokemon para cada um deles e guardamos o resultado em uma lista.\n",
    "Se a função retornar vazia, significa que o pokemon não atende aos nossos critérios e não será incluído na lista final."
   ]
  },
  {
   "cell_type": "code",
   "execution_count": null,
   "metadata": {},
   "outputs": [],
   "source": [
    "results = []\n",
    "errors = []\n",
    "\n",
    "max = 25\n",
    "idx = 0\n",
    "wait = 2\n",
    "for pokemon in lista_pokemons:\n",
    "  poke = processa_pokemon(pokemon)\n",
    "  if poke:\n",
    "    results.append(poke)\n",
    "  else:\n",
    "    errors.append(pokemon)  \n",
    "\n",
    "  idx += 1\n",
    "  if idx == max:\n",
    "      print(f\"Processados {max} pokemons\")\n",
    "      time.sleep(wait)\n",
    "      idx = 0"
   ]
  },
  {
   "cell_type": "markdown",
   "metadata": {},
   "source": [
    "Precisamos também remover as formas alternativas que nnão são das primeiras gerações."
   ]
  },
  {
   "cell_type": "code",
   "execution_count": null,
   "metadata": {},
   "outputs": [],
   "source": [
    "pokemons_sem_formas_alternativas = []\n",
    "for pokemon in results:\n",
    "    if '-mega' not in pokemon[\"nome\"] and '-hisui' not in pokemon[\"nome\"] and '-gmax' not in pokemon[\"nome\"] and '-alola' not in pokemon[\"nome\"] and '-galar' not in pokemon[\"nome\"]:\n",
    "        pokemons_sem_formas_alternativas.append(pokemon)"
   ]
  },
  {
   "cell_type": "markdown",
   "metadata": {},
   "source": [
    "Nossa última restrição é que o pokemon não seja lendário."
   ]
  },
  {
   "cell_type": "code",
   "execution_count": null,
   "metadata": {},
   "outputs": [],
   "source": [
    "pokemon_nao_lendarios = []\n",
    "for pokemon in pokemons_sem_formas_alternativas:\n",
    "    if not pokemon[\"legendario\"]:\n",
    "        pokemon_nao_lendarios.append(pokemon)\n",
    "    else:\n",
    "        errors.append(pokemon)"
   ]
  },
  {
   "cell_type": "markdown",
   "metadata": {},
   "source": [
    "## 3. Salvando os Dados"
   ]
  },
  {
   "cell_type": "markdown",
   "metadata": {},
   "source": [
    "Quase terminando! Vamos salvar os dados em um arquivo json para que possamos utilizar no trabalho final. Também vamos salvar a lista dos pokemons que não atenderam aos critérios."
   ]
  },
  {
   "cell_type": "code",
   "execution_count": null,
   "metadata": {},
   "outputs": [],
   "source": [
    "with open(\"dados/pokemons.json\", \"w\") as f:\n",
    "    json.dump(pokemon_nao_lendarios, f)\n",
    "    \n",
    "with open(\"dados/errors.json\", \"w\") as f:\n",
    "    json.dump(errors, f)"
   ]
  }
 ],
 "metadata": {
  "kernelspec": {
   "display_name": "venv",
   "language": "python",
   "name": "python3"
  },
  "language_info": {
   "codemirror_mode": {
    "name": "ipython",
    "version": 3
   },
   "file_extension": ".py",
   "mimetype": "text/x-python",
   "name": "python",
   "nbconvert_exporter": "python",
   "pygments_lexer": "ipython3",
   "version": "3.12.3"
  }
 },
 "nbformat": 4,
 "nbformat_minor": 2
}
