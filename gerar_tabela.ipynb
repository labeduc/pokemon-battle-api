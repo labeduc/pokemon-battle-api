{
 "cells": [
  {
   "cell_type": "code",
   "execution_count": 13,
   "metadata": {},
   "outputs": [],
   "source": [
    "import csv\n",
    "\n",
    "\n",
    "def get_data():\n",
    "    with open('jogadores.csv', 'r') as file:\n",
    "        reader = csv.DictReader(file)\n",
    "        data = {}\n",
    "        for row in reader:\n",
    "          data[row['nome']] = [row['pokemon1'], row['pokemon2'], row['pokemon3']]\n",
    "    return data\n",
    "\n",
    "\n",
    "jogadores = get_data()\n",
    "nomes = list(jogadores.keys())  \n",
    "\n",
    "tabela = [{\"t1\": a, \"t2\": b} for idx, a in enumerate(nomes) for b in nomes[idx + 1 :]]\n",
    "\n",
    "with open('combates.csv', 'w', newline=\"\") as file:\n",
    "    writer = csv.DictWriter(file, fieldnames=[\"t1\", \"t2\", \"p1\", \"p2\", \"p3\", \"p4\", \"p5\", \"p6\"])\n",
    "    for row in tabela:\n",
    "        row['p1'] = jogadores[row['t1']][0]\n",
    "        row['p2'] = jogadores[row['t1']][1]\n",
    "        row['p3'] = jogadores[row['t1']][2]\n",
    "        row['p4'] = jogadores[row['t2']][0]\n",
    "        row['p5'] = jogadores[row['t2']][1]\n",
    "        row['p6'] = jogadores[row['t2']][2]\n",
    "        writer.writerow(row)"
   ]
  }
 ],
 "metadata": {
  "kernelspec": {
   "display_name": "venv",
   "language": "python",
   "name": "python3"
  },
  "language_info": {
   "codemirror_mode": {
    "name": "ipython",
    "version": 3
   },
   "file_extension": ".py",
   "mimetype": "text/x-python",
   "name": "python",
   "nbconvert_exporter": "python",
   "pygments_lexer": "ipython3",
   "version": "3.12.3"
  }
 },
 "nbformat": 4,
 "nbformat_minor": 2
}
